{
 "cells": [
  {
   "cell_type": "code",
   "execution_count": null,
   "id": "066781be",
   "metadata": {},
   "outputs": [
    {
     "ename": "",
     "evalue": "",
     "output_type": "error",
     "traceback": [
      "\u001b[1;31mDas Ausführen von Zellen mit \"Python 3.13.5\" erfordert das Paket ipykernel.\n",
      "\u001b[1;31m<a href='command:jupyter.createPythonEnvAndSelectController'>Erstellen Sie eine Python-Umgebung</a> mit den erforderlichen Paketen.\n",
      "\u001b[1;31mOder installieren Sie „ipykernel“ mit dem Befehl „/opt/homebrew/bin/python3 -m pip install ipykernel -U --user --force-reinstall“."
     ]
    }
   ],
   "source": [
    "import pandas as pd\n",
    "\n",
    "# Datei einlesen\n",
    "df = pd.read_excel(\"data/raw/PSP_Jan_Feb_2019.xlsx\")\n",
    "\n",
    "# Ersten Eindruck\n",
    "print(df.shape)\n",
    "print(df.dtypes)\n",
    "print(df.head())\n",
    "\n",
    "# Basisinfos\n",
    "print(df.info())\n",
    "print(df.describe(include='all'))\n"
   ]
  }
 ],
 "metadata": {
  "kernelspec": {
   "display_name": "Python 3",
   "language": "python",
   "name": "python3"
  },
  "language_info": {
   "name": "python",
   "version": "3.13.5"
  }
 },
 "nbformat": 4,
 "nbformat_minor": 5
}
